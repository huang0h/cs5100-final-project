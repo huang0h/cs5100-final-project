{
 "cells": [
  {
   "cell_type": "code",
   "execution_count": 1,
   "metadata": {},
   "outputs": [],
   "source": [
    "import tables, json, os\n",
    "\n",
    "from utils import *"
   ]
  },
  {
   "cell_type": "code",
   "execution_count": null,
   "metadata": {},
   "outputs": [],
   "source": [
    "def song_features(file: tables.File) -> dict:\n",
    "    cols = file.root.analysis.songs.cols\n",
    "    feats = {\n",
    "        'danceability': cols.danceability[0],\n",
    "        'energy': cols.energy[0],\n",
    "        'key': cols.key[0],\n",
    "        'key_confidence': cols.key_confidence[0],\n",
    "        'mode': cols.mode[0],\n",
    "        'mode_confidence': cols.mode_confidence[0],\n",
    "        'loudness': cols.loudness[0],\n",
    "        'tempo': cols.tempo[0],\n",
    "        'time_signature': cols.time_signature[0],\n",
    "        'time_signature_confidence': cols.time_signature_confidence[0]\n",
    "    }\n",
    "\n",
    "    feats = normalized_features(feats)\n",
    "\n",
    "    for k, v in feats.items():\n",
    "        feats[k] = float(v)\n",
    "\n",
    "    return feats"
   ]
  },
  {
   "cell_type": "code",
   "execution_count": 2,
   "metadata": {},
   "outputs": [
    {
     "name": "stdout",
     "output_type": "stream",
     "text": [
      "Writing file #9750...\r"
     ]
    }
   ],
   "source": [
    "count = 0\n",
    "\n",
    "all_feats = {}\n",
    "\n",
    "for g1 in os.listdir('MillionSongSubset'):\n",
    "    for g2 in os.listdir(f'MillionSongSubset/{g1}'):\n",
    "        for g3 in os.listdir(f'MillionSongSubset/{g1}/{g2}'):\n",
    "            for file in os.listdir(f'MillionSongSubset/{g1}/{g2}/{g3}'):\n",
    "                if count % 250 == 0:\n",
    "                    print(f'Writing file #{count}...', end='\\r')\n",
    "\n",
    "                table = tables.open_file(f'MillionSongSubset/{g1}/{g2}/{g3}/{file}')\n",
    "                title = table.root.metadata.songs.cols.title[0].decode()\n",
    "                artist = table.root.metadata.songs.cols.artist_name[0].decode()\n",
    "                table.close()\n",
    "            \n",
    "                all_feats[file.strip('.hd5')] = {'title': title, 'artist': artist}\n",
    "                \n",
    "                count += 1\n",
    "\n",
    "with open('searchin.json', 'w') as f:\n",
    "    json.dump(all_feats, f, indent=2)"
   ]
  }
 ],
 "metadata": {
  "kernelspec": {
   "display_name": "Python 3",
   "language": "python",
   "name": "python3"
  },
  "language_info": {
   "codemirror_mode": {
    "name": "ipython",
    "version": 3
   },
   "file_extension": ".py",
   "mimetype": "text/x-python",
   "name": "python",
   "nbconvert_exporter": "python",
   "pygments_lexer": "ipython3",
   "version": "3.10.2"
  }
 },
 "nbformat": 4,
 "nbformat_minor": 2
}
