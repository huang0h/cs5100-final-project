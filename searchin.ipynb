{
 "cells": [
  {
   "cell_type": "code",
   "execution_count": 1,
   "metadata": {},
   "outputs": [],
   "source": [
    "import json, os, sys, math, time, random, requests as req\n",
    "import spotipy\n",
    "from spotipy.oauth2 import SpotifyClientCredentials"
   ]
  },
  {
   "cell_type": "code",
   "execution_count": 2,
   "metadata": {},
   "outputs": [],
   "source": [
    "import librosa "
   ]
  },
  {
   "cell_type": "code",
   "execution_count": 20,
   "metadata": {},
   "outputs": [],
   "source": [
    "SPOTIPY_CLIENT_ID = '' # your spotify client ID here\n",
    "SPOTIPY_CLIENT_SECRET = '' # your spotify client secret here\n",
    "\n",
    "sp = spotipy.Spotify(client_credentials_manager=SpotifyClientCredentials(client_id=SPOTIPY_CLIENT_ID, client_secret=SPOTIPY_CLIENT_SECRET))"
   ]
  },
  {
   "cell_type": "code",
   "execution_count": 5,
   "metadata": {},
   "outputs": [],
   "source": [
    "with open('msd-data/searchin.json', 'r') as f:\n",
    "    searching = json.load(f)"
   ]
  },
  {
   "cell_type": "code",
   "execution_count": 18,
   "metadata": {},
   "outputs": [],
   "source": [
    "AUDIO_FILE = 'funny.mp3'\n",
    "\n",
    "def download_preview(song: dict):\n",
    "    title, artist = song['title'], song['artist']\n",
    "    try:\n",
    "        search = sp.search(q=f\"track:{title} artist:{artist}\", offset=0, type='track', limit=1)\n",
    "    except spotipy.SpotifyException as ex:\n",
    "        if ex.code == -1 and ex.http_status == 400:\n",
    "            return '', False\n",
    "        else:\n",
    "            raise\n",
    "\n",
    "    tracks = search['tracks']['items']\n",
    "    if len(tracks) == 0:\n",
    "        return '', False\n",
    "    \n",
    "    url = tracks[0]['preview_url']\n",
    "    \n",
    "    return tracks[0]['id'], download_preview_url(url)\n",
    "\n",
    "def download_preview_url(url: str):\n",
    "    if url == 'None' or url is None:\n",
    "        return False\n",
    "\n",
    "    session = req.Session()\n",
    "    content = session.get(url).content\n",
    "\n",
    "    with open(AUDIO_FILE, 'wb') as f:\n",
    "        f.write(content)\n",
    "\n",
    "    return True\n"
   ]
  },
  {
   "cell_type": "code",
   "execution_count": 7,
   "metadata": {},
   "outputs": [],
   "source": [
    "searching_l = [(k, v) for k, v in searching.items()]\n",
    "searching_l_copy = searching_l"
   ]
  },
  {
   "cell_type": "code",
   "execution_count": null,
   "metadata": {},
   "outputs": [],
   "source": [
    "offset = 0\n",
    "for i, (id, value) in enumerate(searching_l_copy[offset:]):\n",
    "    if i % 5 == 0:\n",
    "        print(f'Analyzing {id} (#{i+offset}) | timestamp: {time.strftime(\"%I:%M:%S\", time.localtime())}', end='\\r')\n",
    "    \n",
    "    if not download_preview(value):\n",
    "        continue\n",
    "    \n",
    "    y, sr = librosa.load(AUDIO_FILE, sr=44100)\n",
    "    \n",
    "    mfcc = librosa.feature.mfcc(y=y, sr=sr, n_fft=2048, n_mfcc=15, hop_length=1024)\n",
    "    mfcc = mfcc[:, :1200]\n",
    "    listm = [[round(float(c), 3) for c in l] for l in mfcc]\n",
    "\n",
    "    with open(f'msd-data/mfcc-features/{id}.json', 'w') as f:\n",
    "        json.dump(listm, f)\n",
    "\n",
    "    time.sleep(0.95)"
   ]
  },
  {
   "cell_type": "code",
   "execution_count": 5,
   "metadata": {},
   "outputs": [
    {
     "name": "stdout",
     "output_type": "stream",
     "text": [
      "Analyzing 7ivyP9RzZ9NvK2ZZ74lISK (#201) | timestamp: 12:55:07\r"
     ]
    }
   ],
   "source": [
    "to_explore = [('3lPr8ghNDBLc2uZovNyLs9', \"https://p.scdn.co/mp3-preview/f4fe399267e6093182d576a6c84c0e081c81ff90?cid=9f313b6479844355af4354c1c85d1918\")]\n",
    "i = 0\n",
    "while True:\n",
    "    id, url = to_explore.pop(0)\n",
    "    # if i % 5 == 0:\n",
    "    print(f'Analyzing {id} (#{i}) | timestamp: {time.strftime(\"%I:%M:%S\", time.localtime())}', end='\\r')\n",
    "        \n",
    "    if not download_preview_url(url):\n",
    "        continue\n",
    "\n",
    "    y, sr = librosa.load(AUDIO_FILE, sr=44100)\n",
    "    \n",
    "    mfcc = librosa.feature.mfcc(y=y, sr=sr, n_fft=2048, n_mfcc=15, hop_length=1024)\n",
    "    mfcc = mfcc[:, :1200]\n",
    "    listm = [[round(float(c), 3) for c in l] for l in mfcc]\n",
    "\n",
    "    with open(f'msd-data/mfcc-features/{id}.json', 'w') as f:\n",
    "        json.dump(listm, f)\n",
    "\n",
    "    neighbors = sp.recommendations(seed_tracks=['33UFGRwKJzhi4H86Hd2Efs'])['tracks']\n",
    "    if neighbors:\n",
    "        to_explore.extend([(t['id'], t['preview_url']) for t in neighbors])\n",
    "\n",
    "    time.sleep(2.5)\n",
    "\n",
    "    i += 1"
   ]
  },
  {
   "cell_type": "code",
   "execution_count": 5,
   "metadata": {},
   "outputs": [],
   "source": [
    "LAST_FM_API = '' # your last FM api key here"
   ]
  },
  {
   "cell_type": "code",
   "execution_count": 39,
   "metadata": {},
   "outputs": [],
   "source": [
    "def last_fm_get_simiar(artist: str, track: str) -> dict:\n",
    "    params = {\n",
    "        'api_key': LAST_FM_API,\n",
    "        'method': 'track.getSimilar',\n",
    "        'artist': artist,\n",
    "        'track': track,\n",
    "        'format': 'json',\n",
    "        'autocorrect': 1\n",
    "    }\n",
    "    \n",
    "    try:\n",
    "        with req.Session() as s:\n",
    "            return s.get('http://ws.audioscrobbler.com/2.0', params=params).json()['similartracks']['track']\n",
    "    except ConnectionResetError:\n",
    "        return None\n",
    "    except ConnectionError:\n",
    "        return None\n",
    "    except json.JSONDecodeError:\n",
    "        return None"
   ]
  },
  {
   "cell_type": "code",
   "execution_count": null,
   "metadata": {},
   "outputs": [],
   "source": [
    "tracks = last_fm_get_simiar('Foster the people', 'pumped up kicks')\n",
    "tracks"
   ]
  },
  {
   "cell_type": "code",
   "execution_count": 36,
   "metadata": {},
   "outputs": [
    {
     "data": {
      "text/plain": [
       "('49X0LAl6faAusYq02PRAY6', True)"
      ]
     },
     "execution_count": 36,
     "metadata": {},
     "output_type": "execute_result"
    }
   ],
   "source": [
    "download_preview({'title': 'Lady - Hear me tonight', 'artist': 'Modjo'})"
   ]
  },
  {
   "cell_type": "code",
   "execution_count": null,
   "metadata": {},
   "outputs": [],
   "source": [
    "to_explore = [('Foster the people', 'pumped up kicks')]\n",
    "explored = set([])\n",
    "i = 0\n",
    "while True:\n",
    "    artist, track = to_explore.pop(0)\n",
    "    \n",
    "    explored.add((artist, track))\n",
    "\n",
    "    id, success = download_preview({'title': track, 'artist': artist})\n",
    "    \n",
    "    if not success:\n",
    "        continue\n",
    "    \n",
    "    # if i % 5 == 0:\n",
    "    print(f'Analyzing {artist}|{track} (#{i}) | Track ID: {id} | timestamp: {time.strftime(\"%I:%M:%S\", time.localtime())}', end='\\r', flush=True)\n",
    "\n",
    "    tracks = last_fm_get_simiar(artist, track)\n",
    "    if tracks == None:\n",
    "        print('Encountered an error oops')\n",
    "        continue\n",
    "\n",
    "    info_pairs = [pair for track in tracks if (pair := (track['artist']['name'], track['name'])) not in explored]\n",
    "    to_explore.extend(info_pairs)\n",
    "\n",
    "    if not os.path.exists(f'msd-data/mfcc-features/{id}.json'):\n",
    "\n",
    "        y, sr = librosa.load(AUDIO_FILE, sr=44100)\n",
    "        \n",
    "        mfcc = librosa.feature.mfcc(y=y, sr=sr, n_fft=2048, n_mfcc=15, hop_length=1024)\n",
    "        mfcc = mfcc[:, :1200]\n",
    "        listm = [[round(float(c), 3) for c in l] for l in mfcc]\n",
    "\n",
    "        with open(f'msd-data/mfcc-features/{id}.json', 'w') as f:\n",
    "            json.dump(listm, f)\n",
    "\n",
    "        i += 1\n",
    "\n",
    "    time.sleep(0.95)"
   ]
  }
 ],
 "metadata": {
  "kernelspec": {
   "display_name": "Python 3",
   "language": "python",
   "name": "python3"
  },
  "language_info": {
   "codemirror_mode": {
    "name": "ipython",
    "version": 3
   },
   "file_extension": ".py",
   "mimetype": "text/x-python",
   "name": "python",
   "nbconvert_exporter": "python",
   "pygments_lexer": "ipython3",
   "version": "3.11.6"
  }
 },
 "nbformat": 4,
 "nbformat_minor": 2
}
